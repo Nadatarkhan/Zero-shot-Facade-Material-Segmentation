{
 "cells": [
  {
   "cell_type": "code",
   "execution_count": 6,
   "metadata": {},
   "outputs": [],
   "source": "# this specifically tests LIB-HSI VAL\nimport os, shutil, cv2\nimport numpy as np\nimport matplotlib.pyplot as plt\nfrom matplotlib.colors import to_rgba, to_hex\nimport matplotlib.pyplot as plt\nimport pandas as pd\nimport matplotlib.colors as mcolors\nfrom scipy.ndimage import zoom"
  },
  {
   "cell_type": "code",
   "execution_count": 7,
   "metadata": {},
   "outputs": [],
   "source": "#LIB Dataset labels\n# data = [\n#     ['classname_full', 'classname_short', 'color', 'class_number'],\n#     [\"miscellaneous\", 'miscellaneous', 'orange', '0'],\n#     [\"vegetation\", 'vegetation', 'pink', '1'],\n#     [\"glass window\", 'glass window', 'blue', '2'],\n#     [\"brick surface\", 'brick', 'red', '3'],\n#     [\"concrete surface\", 'concrete surface', 'white', '4'],\n#     [\"concrete block wall\", 'concrete blocks', 'yellow', '5'],\n#     [\"metal\", 'metal', 'black', '6'],\n#     [\"door\", 'door', 'purple', '7'],\n#     [\"timber\", 'timber', 'green', '8'],\n# ]\n\n#facade datset labels\ndata = [['classname_full', 'classname_short', 'color','class_number'],\n        [\"glass surface\", 'glass', 'blue',10],\n        [\"concrete surface\", 'concrete', 'yellow',11],\n        [\"brick wall\", 'brick', 'red',12],\n       [\"siding\", 'siding', 'green',13],\n#         [\"roof tiles shingles\", 'roof', 'orange',14],\n        [\"plaster facade surface\", 'plaster', 'white',16],\n        [\"metal panels\", 'metal', 'purple',17],\n       [\"door\", 'door', 'brown',32],]\n\n\n# Convert the list of lists to a DataFrame\nlabel_df = pd.DataFrame(data[1:], columns=data[0])\n\n# Convert the list of lists to a DataFrame\nlabel_df = pd.DataFrame(data[1:], columns=data[0])"
  },
  {
   "cell_type": "code",
   "execution_count": 8,
   "metadata": {},
   "outputs": [
    {
     "data": {
      "text/plain": "173"
     },
     "execution_count": 8,
     "metadata": {},
     "output_type": "execute_result"
    }
   ],
   "source": "len(os.listdir('/home/klimenko/seg_materials/FINAL_DATASETS/COMBINED/MASKS'))"
  },
  {
   "cell_type": "code",
   "execution_count": 9,
   "metadata": {},
   "outputs": [],
   "source": "#functions that convert images to LIBHSI classes and vice versa\ndef create_image_from_numbers(number_array, color_mapping):\n    height, width = number_array.shape[:2]\n    img = np.zeros((height, width, 3), dtype=np.uint8)\n    for i in range(height):\n        for j in range(width):\n            number = int(number_array[i, j])\n            if number in color_mapping:\n                colorvalue = np.asarray(to_rgba(mcolors.to_rgb(color_mapping[number]))[:3])\n                img[i,j,0]=colorvalue[0]*255\n                img[i,j,1]=colorvalue[1]*255\n                img[i,j,2]=colorvalue[2]*255\n    return img\n\ndef convert_image_to_numbers(image, color_mapping):\n    height, width, _ = image.shape\n    number_array = np.zeros((height, width), dtype=int)\n    for i in range(height):\n        for j in range(width):\n            color = tuple(image[i, j, :3])\n            number_array[i, j] = inverse_color_mapping.get((color), -1)\n    return number_array\n\n\n# Create color mapping and inverse color mapping\ncolor_mapping = {int(row[3]): row[2] for row in data[1:]}\ninverse_color_mapping = {(tuple((np.asarray(mcolors.to_rgba(mcolors.CSS4_COLORS[row[2]])[:3])*255).astype('int'))):int(row[3]) for row in data[1:]}\n\n\n\nnumbers_array = np.array([[0, 1, 2],\n                          [3, 1, 4]])\n\n\nimage_from_numbers = create_image_from_numbers(numbers_array, color_mapping)\nnumbers_array_converted = convert_image_to_numbers(image_from_numbers, inverse_color_mapping)\n"
  },
  {
   "cell_type": "code",
   "execution_count": 10,
   "metadata": {},
   "outputs": [],
   "source": "def calculate_stats_per_class(result_image, ground_truth, class_number, presence_threshold=0.01):\n    # Skip the \"roof\" class (assuming its class number is 14)\n    #if class_number == 14:\n        #return np.nan, np.nan, np.nan, np.nan\n\n\n    ground_truth_presence = np.any(ground_truth == class_number)\n    prediction_presence = np.any(result_image == class_number)\n\n    # Calculate the presence ratio in the prediction\n    prediction_ratio = np.sum(result_image == class_number) / result_image.size\n\n    # Apply the threshold to consider minor presences as absences\n    if not ground_truth_presence and (not prediction_presence or prediction_ratio < presence_threshold):\n        print(f\"Class {class_number} considered absent due to presence threshold.\")\n        return np.nan, np.nan, np.nan, np.nan\n\n\n    mask_result = (result_image == class_number)\n    mask_hsi = (ground_truth == class_number)\n    intersection = np.logical_and(mask_result, mask_hsi).sum()\n    union = np.logical_or(mask_result, mask_hsi).sum()\n\n    # Correct weight calculation: ratio of class pixels to total class pixels in ground_truth\n    total_class_pixels = ground_truth[ground_truth == class_number].size\n    weight = mask_hsi.sum() / total_class_pixels if total_class_pixels != 0 else 0\n\n    # Applying the weight to the IoU calculation\n    iou = (intersection / union) * weight if union != 0 else 0\n\n    # Calculate additional metrics\n    true_positive = intersection\n    false_positive = mask_result.sum() - true_positive\n    false_negative = mask_hsi.sum() - true_positive\n    true_negative = (~mask_result & ~mask_hsi).sum()\n\n    # Calculate accuracy, precision, and recall\n    total = true_positive + false_positive + false_negative + true_negative\n    accuracy = (true_positive + true_negative) / total if total != 0 else 0\n    precision = true_positive / (true_positive + false_positive) if (true_positive + false_positive) != 0 else 0\n    recall = true_positive / (true_positive + false_negative) if (true_positive + false_negative) != 0 else 0\n\n    return iou, accuracy, precision, recall"
  },
  {
   "cell_type": "code",
   "execution_count": 18,
   "metadata": {},
   "outputs": [
    {
     "name": "stdout",
     "output_type": "stream",
     "text": "124\n0\n\n385\n0\n\n111\n0\n\n747\n0\n\n802\n0\n\n124\n0\n\n834\n0\n\n58\n0\n\n182\n0\n\n197\n0\n\n165\n0\n\n49\n0\n\n0\n0\n\n'NoneType' object has no attribute 'shape' PASS\n148\n0\n\n0\n0\n\n'NoneType' object has no attribute 'shape' PASS\n"
    },
    {
     "name": "stderr",
     "output_type": "stream",
     "text": "[ WARN:0@249.696] global loadsave.cpp:248 findDecoder imread_('/home/klimenko/seg_materials/FINAL_DATASETS/COMBINED/MASKS/0__zAHgamHte7_XnCzprmZGsw.jpg'): can't open/read file: check file path/integrity\n[ WARN:0@249.837] global loadsave.cpp:248 findDecoder imread_('/home/klimenko/seg_materials/FINAL_DATASETS/COMBINED/MASKS/0__N412ISFqyCYXkcpi8fKlVg.jpg'): can't open/read file: check file path/integrity\n"
    },
    {
     "name": "stdout",
     "output_type": "stream",
     "text": "77\n0\n\n56\n0\n\n159\n0\n\n95\n0\n\n634\n0\n\n197\n0\n\n212\n0\n\n157\n0\n\n187\n0\n\n16\n0\n\n0\n0\n\n'NoneType' object has no attribute 'shape' PASS\n24\n0\n\n"
    },
    {
     "name": "stderr",
     "output_type": "stream",
     "text": "[ WARN:0@250.827] global loadsave.cpp:248 findDecoder imread_('/home/klimenko/seg_materials/FINAL_DATASETS/COMBINED/MASKS/180__Iz-LiOvZi5rYWr6zZsvIZQ.jpg'): can't open/read file: check file path/integrity\n"
    },
    {
     "name": "stdout",
     "output_type": "stream",
     "text": "1851\n0\n\n1490\n0\n\n23\n0\n\n177\n0\n\n80\n0\n\n1226\n0\n\n147\n0\n\n216\n0\n\n184\n0\n\n1870\n0\n\n36\n0\n\n90\n0\n\n739\n0\n\n218\n0\n\n1582\n0\n\n223\n0\n\n167\n0\n\n11\n0\n\n474\n0\n\n15\n0\n\n222\n0\n\n869\n0\n\n12\n0\n\n8\n0\n\n293\n0\n\n314\n0\n\n1180\n0\n\n658\n0\n\n209\n0\n\n11\n0\n\n82\n0\n\n13\n0\n\n2024\n0\n\n88\n0\n\n211\n0\n\n30\n0\n\n170\n0\n\n4\n0\n\n217\n0\n\n368\n0\n\n221\n0\n\n23\n0\n\n116\n0\n\n257\n0\n\n130\n0\n\n60\n0\n\n115\n0\n\n218\n0\n\n183\n0\n\n399\n0\n\n669\n0\n\n164\n0\n\n37\n0\n\n554\n0\n\n419\n0\n\n36\n0\n\n95\n0\n\n60\n0\n\n96\n0\n\n202\n0\n\n342\n0\n\n20\n0\n\n35\n0\n\n204\n0\n\n18\n0\n\n48\n0\n\n147\n0\n\n230\n0\n\n71\n0\n\n638\n0\n\n38\n0\n\n0\n0\n\n'NoneType' object has no attribute 'shape' PASS\n133\n0\n\n166\n0\n\n"
    },
    {
     "name": "stderr",
     "output_type": "stream",
     "text": "[ WARN:0@257.850] global loadsave.cpp:248 findDecoder imread_('/home/klimenko/seg_materials/FINAL_DATASETS/COMBINED/MASKS/0_1knTXCyIPzHdO416rcteZA.jpg'): can't open/read file: check file path/integrity\n"
    },
    {
     "name": "stdout",
     "output_type": "stream",
     "text": "1261\n0\n\n65\n0\n\n125\n0\n\n75\n0\n\n81\n0\n\n0\n0\n\n'NoneType' object has no attribute 'shape' PASS\n"
    },
    {
     "name": "stderr",
     "output_type": "stream",
     "text": "[ WARN:0@258.591] global loadsave.cpp:248 findDecoder imread_('/home/klimenko/seg_materials/FINAL_DATASETS/COMBINED/MASKS/0__BvNGs7A2VJudjY_kh_ZaCg.jpg'): can't open/read file: check file path/integrity\n"
    },
    {
     "name": "stdout",
     "output_type": "stream",
     "text": "32\n0\n\n34\n0\n\n1090\n0\n\n94\n0\n\n114\n0\n\n276\n0\n\n15\n0\n\n256\n0\n\n258\n0\n\n812\n0\n\n0\n0\n\n'NoneType' object has no attribute 'shape' PASS\n36\n0\n\n44\n0\n\n"
    },
    {
     "name": "stderr",
     "output_type": "stream",
     "text": "[ WARN:0@259.754] global loadsave.cpp:248 findDecoder imread_('/home/klimenko/seg_materials/FINAL_DATASETS/COMBINED/MASKS/0__4a4N-W_Es-Dr2aWM26dNSg.jpg'): can't open/read file: check file path/integrity\n"
    },
    {
     "name": "stdout",
     "output_type": "stream",
     "text": "131\n0\n\n741\n0\n\n135\n0\n\n77\n0\n\n781\n0\n\n558\n0\n\n14\n0\n\n406\n0\n\n28\n0\n\n0\n0\n\n'NoneType' object has no attribute 'shape' PASS\n834\n0\n\n"
    },
    {
     "name": "stderr",
     "output_type": "stream",
     "text": "[ WARN:0@260.869] global loadsave.cpp:248 findDecoder imread_('/home/klimenko/seg_materials/FINAL_DATASETS/COMBINED/MASKS/_yrsm4GDdBpz7-7cuaJT1A.jpg'): can't open/read file: check file path/integrity\n"
    },
    {
     "name": "stdout",
     "output_type": "stream",
     "text": "67\n0\n\n0\n0\n\n'NoneType' object has no attribute 'shape' PASS\n48\n0\n\n"
    },
    {
     "name": "stderr",
     "output_type": "stream",
     "text": "[ WARN:0@261.111] global loadsave.cpp:248 findDecoder imread_('/home/klimenko/seg_materials/FINAL_DATASETS/COMBINED/MASKS/0__oZv5IG66-SyDbwWUvGcV9g.jpg'): can't open/read file: check file path/integrity\n"
    },
    {
     "name": "stdout",
     "output_type": "stream",
     "text": "368\n0\n\n341\n0\n\n117\n0\n\n0\n0\n\n'NoneType' object has no attribute 'shape' PASS\n79\n0\n\n432\n0\n\n"
    },
    {
     "name": "stderr",
     "output_type": "stream",
     "text": "[ WARN:0@261.532] global loadsave.cpp:248 findDecoder imread_('/home/klimenko/seg_materials/FINAL_DATASETS/COMBINED/MASKS/0__Y79opRbZbCJNhLi4dgzUiw.jpg'): can't open/read file: check file path/integrity\n"
    },
    {
     "name": "stdout",
     "output_type": "stream",
     "text": "978\n0\n\n310\n0\n\n173\n0\n\n27\n0\n\n1016\n0\n\n421\n0\n\n139\n0\n\n140\n0\n\n66\n0\n\n12\n0\n\n116\n0\n\n292\n0\n\n123\n0\n\n23\n0\n\n2447\n0\n\n1273\n0\n\n"
    }
   ],
   "source": "#NEW\nNEWLABELS_PATH = '/home/klimenko/seg_materials/FINAL_DATASETS/COMBINED/MASKS/'\n#PRED_PATH = '/home/klimenko/seg_materials/FINAL_DATASETS/COMBINED/OUTPUTS_CLIPSEG/CLIPSEG/'\n#PRED_PATH = '/home/klimenko/seg_materials/FINAL_DATASETS/COMBINED/OUTPUTS/CLIPSEG/'\n# NEWLABELS_PATH = '/home/klimenko/facade_materials/materials/train/labels_8/'\n# PRED_PATH = '/home/klimenko/seg_materials/OUTPUTS/RUN7_LIB_HSI/CLIPSEG/'\nPRED_PATH = '/home/klimenko/seg_materials/FINAL_DATASETS/COMBINED/OUTPUTS_CLIPSEG_FACTOR_2/CLIPSEG/'\n#PRED_PATH = \"/home/klimenko/seg_materials/FINAL_DATASETS/COMBINED/OUTPUTS_RAW_CLIPSEG/\"\n#PRED_PATH = '/home/klimenko/seg_materials/FINAL_DATASETS/COMBINED/OUTPUTS_RAW_CLIPSEG/'\n#NEWLABELS_PATH = '/home/klimenko/seg_materials/FINAL_DATASETS/COMBINED/MASKS/'\n#PRED_PATH = '/home/klimenko/seg_materials/FINAL_DATASETS/COMBINED/OUTPUTS_CLIPSEG/CLIPSEG/'\n#PRED_PATH = '/home/klimenko/seg_materials/VAL_SEGFORMER/results/'\n#RGB_PATH = '/home/klimenko/seg_materials/FINAL_DATASETS/COMBINED/RGB/'\n\n\ncount = 0\niou_total = []\naccuracy_total = []\nprecision_total = []\nrecall_total = []\nrgb_img_list = []\npred_img_list=[]\nlabel_img_list = []\n\npresence_threshold = 0.05#  # Adjust\n\nfor imagename in os.listdir(PRED_PATH):#['180__Iz-LiOvZi5rYWr6zZsvIZQ.npy']:\n    #print(imagename)\n    try:\n        #print(imagename)\n#         if imagename[:-4]+'.jpg' not in os.listdir('/home/klimenko/seg_materials/FINAL_DATASETS/BROOKLYN/MASKS/'):\n#             raise Exception(\"NOT IN DSET\")\n\n        if imagename.endswith(\".ipynb_checkpoints\"):\n            continue  # Skip non-relevant files\n\n        count += 1\n        pred_img = np.load(os.path.join(PRED_PATH, imagename))\n        pred_img = pred_img.astype(np.uint8)\n        label_img = cv2.imread(os.path.join(NEWLABELS_PATH, imagename[:-4] + '.jpg'), cv2.IMREAD_GRAYSCALE)\n        truth = label_img ==8\n        print(np.sum(truth))\n        truth2 = pred_img ==8\n        print(np.sum(truth2))\n        print()\n        pred_img = cv2.resize(pred_img, (label_img.shape[1], label_img.shape[0]))\n\n        #print(f\"Processing {imagename}: pred_img shape={pred_img.shape}, label_img shape={label_img.shape}\")\n\n        iou_scores = []\n        accuracy_scores = []\n        precision_scores = []\n        recall_scores = []\n\n        for class_number in [10, 11, 12, 13, 16, 17, 32]:\n        #for class_number in [0, 1, 2, 3, 4, 5, 6, 7, 8]:\n\n            # Calculate class presence ratio in prediction\n            prediction_ratio = np.sum(pred_img == class_number) / pred_img.size\n            label_ratio = np.sum(label_img == class_number) / pred_img.size\n\n            # Determine if class should be considered absent\n            if prediction_ratio < presence_threshold and label_ratio < presence_threshold:\n                #print(f\"Class {class_number} considered absent due to presence threshold.\")\n                iou = accuracy = precision = recall = np.nan\n            else:\n                iou, accuracy, precision, recall = calculate_stats_per_class(pred_img, label_img, class_number)\n\n            iou_scores.append(iou)\n            accuracy_scores.append(accuracy)\n            precision_scores.append(precision)\n            recall_scores.append(recall)\n\n            #print(iou)\n\n        iou_total.append(iou_scores)\n        accuracy_total.append(accuracy_scores)\n        precision_total.append(precision_scores)\n        recall_total.append(recall_scores)\n    except Exception as E:\n        print(E, 'PASS')\n"
  },
  {
   "cell_type": "code",
   "execution_count": 19,
   "metadata": {},
   "outputs": [
    {
     "data": {
      "text/plain": "147"
     },
     "execution_count": 19,
     "metadata": {},
     "output_type": "execute_result"
    }
   ],
   "source": "len(iou_total)"
  },
  {
   "cell_type": "code",
   "execution_count": 20,
   "metadata": {},
   "outputs": [
    {
     "name": "stdout",
     "output_type": "stream",
     "text": "Average IoU across all images: 0.3902633667399458\nAverage accuracy across all images: 0.8727999725053662\nAverage precision across all images: 0.5237373648445194\nAverage recall across all images: 0.5130989693845212\n"
    }
   ],
   "source": "import numpy as np\n\n# Convert lists of lists to NumPy arrays for easier manipulation\niou_array = np.array(iou_total)\naccuracy_array = np.array(accuracy_total)\nprecision_array = np.array(precision_total)\nrecall_array = np.array(recall_total)\n\n# Calculate mean metrics, ignoring NaNs\nmean_iou = np.nanmean(iou_array)\nmean_accuracy = np.nanmean(accuracy_array)\nmean_precision = np.nanmean(precision_array)\nmean_recall = np.nanmean(recall_array)\n\nprint(\"Average IoU across all images:\", mean_iou)\nprint(\"Average accuracy across all images:\", mean_accuracy)\nprint(\"Average precision across all images:\", mean_precision)\nprint(\"Average recall across all images:\", mean_recall)\n"
  },
  {
   "cell_type": "code",
   "execution_count": 21,
   "metadata": {},
   "outputs": [
    {
     "data": {
      "text/html": "<div>\n<style scoped>\n    .dataframe tbody tr th:only-of-type {\n        vertical-align: middle;\n    }\n\n    .dataframe tbody tr th {\n        vertical-align: top;\n    }\n\n    .dataframe thead th {\n        text-align: right;\n    }\n</style>\n<table border=\"1\" class=\"dataframe\">\n  <thead>\n    <tr style=\"text-align: right;\">\n      <th></th>\n      <th>glass</th>\n      <th>concrete</th>\n      <th>brick</th>\n      <th>siding</th>\n      <th>plaster</th>\n      <th>metal</th>\n      <th>door</th>\n    </tr>\n  </thead>\n  <tbody>\n    <tr>\n      <th>0</th>\n      <td>0.625219</td>\n      <td>0.109005</td>\n      <td>0.482352</td>\n      <td>0.26513</td>\n      <td>0.229743</td>\n      <td>0.128984</td>\n      <td>0.47923</td>\n    </tr>\n  </tbody>\n</table>\n</div>",
      "text/plain": "      glass  concrete     brick   siding   plaster     metal     door\n0  0.625219  0.109005  0.482352  0.26513  0.229743  0.128984  0.47923"
     },
     "execution_count": 21,
     "metadata": {},
     "output_type": "execute_result"
    }
   ],
   "source": "iou_total = np.asarray(iou_total)\naccuracy_total = np.asarray(accuracy_total)\nprecision_total = np.asarray(precision_total)\nrecall_total = np.asarray(recall_total)\n\niou_means = np.nanmean(iou_total, axis=0)#[0:10]\naccuracy_means = np.nanmean(accuracy_total, axis=0)#[0:10]\nprecision_means = np.nanmean(precision_total, axis=0)#[0:10]\nrecall_means = np.nanmean(recall_total, axis=0)#[0:10]\n\nclassnames = list(label_df['classname_short'])#[0:10]\ndf = pd.DataFrame([list(iou_means)], columns=classnames)\ndf"
  },
  {
   "cell_type": "code",
   "execution_count": 22,
   "metadata": {},
   "outputs": [
    {
     "name": "stderr",
     "output_type": "stream",
     "text": "/tmp/ipykernel_1143/4242024929.py:25: FutureWarning: DataFrame.applymap has been deprecated. Use DataFrame.map instead.\n  result_df = result_df.applymap(round_numeric_columns)\n"
    }
   ],
   "source": "df = pd.DataFrame({\n    'Class': classnames,\n    'IOU': iou_means,\n    'Accuracy': accuracy_means,\n    'Precision': precision_means,\n    'Recall': recall_means\n})\nnumeric_columns = df.columns[1:]\n#total_mean_row = df[numeric_columns].mean()\ntotal_mean_row = df.mean(skipna=True, numeric_only=True)\ntotal_mean_row['Class'] = 'TOTAL'  # Set the new class name\ntotal_mean_row = pd.DataFrame(total_mean_row).T\n\n# Append the total mean row to the DataFrame\nresult_df= df[df['Class'] != 'roof']\nresult_df = pd.concat([df, total_mean_row], axis=0)\nresult_df.to_csv('LIB-HSI-PATCH.csv')\n\ndef round_numeric_columns(x):\n    if isinstance(x, (int, float, np.number)):\n        return round(x, 3)\n    return x\n\n# Apply the function to the entire DataFrame\nresult_df = result_df.applymap(round_numeric_columns)\nresult_df = result_df.drop('Accuracy', axis=1)"
  },
  {
   "cell_type": "code",
   "execution_count": 23,
   "metadata": {},
   "outputs": [
    {
     "data": {
      "text/html": "<div>\n<style scoped>\n    .dataframe tbody tr th:only-of-type {\n        vertical-align: middle;\n    }\n\n    .dataframe tbody tr th {\n        vertical-align: top;\n    }\n\n    .dataframe thead th {\n        text-align: right;\n    }\n</style>\n<table border=\"1\" class=\"dataframe\">\n  <thead>\n    <tr style=\"text-align: right;\">\n      <th></th>\n      <th>Class</th>\n      <th>IOU</th>\n      <th>Precision</th>\n      <th>Recall</th>\n    </tr>\n  </thead>\n  <tbody>\n    <tr>\n      <th>0</th>\n      <td>glass</td>\n      <td>0.625</td>\n      <td>0.735</td>\n      <td>0.818</td>\n    </tr>\n    <tr>\n      <th>1</th>\n      <td>concrete</td>\n      <td>0.109</td>\n      <td>0.348</td>\n      <td>0.126</td>\n    </tr>\n    <tr>\n      <th>2</th>\n      <td>brick</td>\n      <td>0.482</td>\n      <td>0.592</td>\n      <td>0.622</td>\n    </tr>\n    <tr>\n      <th>3</th>\n      <td>siding</td>\n      <td>0.265</td>\n      <td>0.388</td>\n      <td>0.354</td>\n    </tr>\n    <tr>\n      <th>4</th>\n      <td>plaster</td>\n      <td>0.230</td>\n      <td>0.375</td>\n      <td>0.314</td>\n    </tr>\n    <tr>\n      <th>5</th>\n      <td>metal</td>\n      <td>0.129</td>\n      <td>0.269</td>\n      <td>0.259</td>\n    </tr>\n    <tr>\n      <th>6</th>\n      <td>door</td>\n      <td>0.479</td>\n      <td>0.641</td>\n      <td>0.538</td>\n    </tr>\n    <tr>\n      <th>0</th>\n      <td>TOTAL</td>\n      <td>0.331</td>\n      <td>0.478</td>\n      <td>0.433</td>\n    </tr>\n  </tbody>\n</table>\n</div>",
      "text/plain": "      Class    IOU  Precision  Recall\n0     glass  0.625      0.735   0.818\n1  concrete  0.109      0.348   0.126\n2     brick  0.482      0.592   0.622\n3    siding  0.265      0.388   0.354\n4   plaster  0.230      0.375   0.314\n5     metal  0.129      0.269   0.259\n6      door  0.479      0.641   0.538\n0     TOTAL  0.331      0.478   0.433"
     },
     "execution_count": 23,
     "metadata": {},
     "output_type": "execute_result"
    }
   ],
   "source": "result_df # SEGFORMER"
  },
  {
   "cell_type": "markdown",
   "metadata": {},
   "source": "len(os.listdir('/home/klimenko/seg_materials/OUTPUTS/RUN7_LIB_HSI/COMBINED'))"
  },
  {
   "cell_type": "code",
   "execution_count": 17,
   "metadata": {},
   "outputs": [
    {
     "data": {
      "text/plain": "116"
     },
     "execution_count": 17,
     "metadata": {},
     "output_type": "execute_result"
    }
   ],
   "source": "len(iou_total)"
  },
  {
   "cell_type": "code",
   "execution_count": null,
   "metadata": {},
   "outputs": [],
   "source": ""
  },
  {
   "cell_type": "code",
   "execution_count": 136,
   "metadata": {},
   "outputs": [
    {
     "name": "stdout",
     "output_type": "stream",
     "text": "144\n"
    }
   ],
   "source": "print(len(os.listdir('/home/klimenko/seg_materials/FINAL_DATASETS/COMBINED/OUTPUTS_CLIPSEG/CLIPSEG/')))"
  },
  {
   "cell_type": "code",
   "execution_count": 75,
   "metadata": {},
   "outputs": [
    {
     "name": "stdout",
     "output_type": "stream",
     "text": "188\n"
    }
   ],
   "source": "print(len(os.listdir('/home/klimenko/seg_materials/FINAL_DATASETS/COMBINED/OUTPUTS_RAW_CLIPSEG')))"
  },
  {
   "cell_type": "code",
   "execution_count": 100,
   "metadata": {},
   "outputs": [],
   "source": "import shutil\nimport os\n\nsource_dir = '/home/klimenko/seg_materials/FINAL_DATASETS/BOSTON/RGB'  # Path to directory A\ntarget_dir = '/home/klimenko/seg_materials/FINAL_DATASETS/COMBINED/RGB'  # Path to directory B\n\n# Copy all files from source_dir to target_dir, overriding existing files\nfor file_name in os.listdir(source_dir):\n    full_file_name = os.path.join(source_dir, file_name)\n    if os.path.isfile(full_file_name):\n        shutil.copy(full_file_name, target_dir)"
  },
  {
   "cell_type": "code",
   "execution_count": 5,
   "metadata": {},
   "outputs": [
    {
     "name": "stdout",
     "output_type": "stream",
     "text": "120\n"
    }
   ],
   "source": "print(len(os.listdir('/home/klimenko/seg_materials/FINAL_DATASETS/COMBINED/OUTPUTS_CLIPSEG_FACTOR_1/CLIPSEG')))"
  },
  {
   "cell_type": "code",
   "execution_count": null,
   "metadata": {},
   "outputs": [],
   "source": ""
  }
 ],
 "metadata": {
  "kernelspec": {
   "display_name": "facade",
   "language": "python",
   "name": "facade"
  },
  "language_info": {
   "codemirror_mode": {
    "name": "ipython",
    "version": 3
   },
   "file_extension": ".py",
   "mimetype": "text/x-python",
   "name": "python",
   "nbconvert_exporter": "python",
   "pygments_lexer": "ipython3",
   "version": "3.10.9"
  }
 },
 "nbformat": 4,
 "nbformat_minor": 4
}
